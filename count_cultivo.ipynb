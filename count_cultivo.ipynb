{
 "cells": [
  {
   "cell_type": "code",
   "execution_count": 24,
   "id": "dce4580d",
   "metadata": {},
   "outputs": [],
   "source": [
    "import geopandas\n",
    "from pathlib import Path\n",
    "import matplotlib.pyplot as plt\n",
    "import pandas as pd"
   ]
  },
  {
   "cell_type": "code",
   "execution_count": 29,
   "id": "85732ee4",
   "metadata": {},
   "outputs": [],
   "source": [
    "# Path to the file | Ruta al archivo\n",
    "\n",
    "data_folder = Path(\".\") "
   ]
  },
  {
   "cell_type": "code",
   "execution_count": 30,
   "id": "bd654cf8",
   "metadata": {},
   "outputs": [],
   "source": [
    "# Open the file | Abrimos el archivo\n",
    "\n",
    "data = geopandas.read_file(data_folder / \"radios_yb.shp\")"
   ]
  },
  {
   "cell_type": "code",
   "execution_count": 31,
   "id": "184e8cd2",
   "metadata": {},
   "outputs": [
    {
     "data": {
      "text/plain": [
       "Index(['COD_1991', 'Pob91', 'primaria91', 'iagua91', 'Pob01', 'primaria01',\n",
       "       'iagua01', 'd_pob01', 'd_sani01', 'd_edu01', 'densi01', 'Pob10',\n",
       "       'primaria10', 'iagua10', 'd_pob10', 'd_edu10', 'd_sani10', 'densi91',\n",
       "       'area_2', 'densi10', 'd_pob101', 'd_iagua101', 'd_edu101', 'sojacount',\n",
       "       'cañacount', 'citruscoun', 'geometry'],\n",
       "      dtype='object')"
      ]
     },
     "execution_count": 31,
     "metadata": {},
     "output_type": "execute_result"
    }
   ],
   "source": [
    "data.columns"
   ]
  },
  {
   "cell_type": "code",
   "execution_count": 35,
   "id": "c8662c48",
   "metadata": {},
   "outputs": [
    {
     "name": "stdout",
     "output_type": "stream",
     "text": [
      "1108.0\n"
     ]
    }
   ],
   "source": [
    "print(data['sojacount'].max())"
   ]
  },
  {
   "cell_type": "code",
   "execution_count": 44,
   "id": "d2613626",
   "metadata": {},
   "outputs": [],
   "source": [
    "data.loc[data['citruscoun'] > 0, 'citruscoun'] = 1\n"
   ]
  },
  {
   "cell_type": "code",
   "execution_count": 41,
   "id": "82c287bb",
   "metadata": {},
   "outputs": [
    {
     "name": "stdout",
     "output_type": "stream",
     "text": [
      "1.0\n"
     ]
    }
   ],
   "source": [
    "print(data['sojacount'].max())"
   ]
  },
  {
   "cell_type": "code",
   "execution_count": 45,
   "id": "12c7d5cf",
   "metadata": {},
   "outputs": [],
   "source": [
    "data.to_file(\"radios_yb1.shp\")"
   ]
  },
  {
   "cell_type": "code",
   "execution_count": null,
   "id": "08eced83",
   "metadata": {},
   "outputs": [],
   "source": []
  }
 ],
 "metadata": {
  "kernelspec": {
   "display_name": "Python 3 (ipykernel)",
   "language": "python",
   "name": "python3"
  },
  "language_info": {
   "codemirror_mode": {
    "name": "ipython",
    "version": 3
   },
   "file_extension": ".py",
   "mimetype": "text/x-python",
   "name": "python",
   "nbconvert_exporter": "python",
   "pygments_lexer": "ipython3",
   "version": "3.9.13"
  }
 },
 "nbformat": 4,
 "nbformat_minor": 5
}
