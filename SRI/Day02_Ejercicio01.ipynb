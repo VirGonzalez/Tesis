{
 "cells": [
  {
   "cell_type": "markdown",
   "id": "68d406be-38db-47f5-93e8-f8e7e5577352",
   "metadata": {},
   "source": [
    "# Ejercicio I\n",
    "Con este ejercicio vamos a revisitar el ejercicio 2 del viernes y lo expandimos por la visulaización de unos datos vectoriales (puntos). Usa este script para (1) abrir un mapa Google Earth Engine con los datos del Global Forest Watch, y (2) visualizar unos puntos, (3) extraer unos datos en las ubicaciónes de puntos.\n",
    "\n",
    "## Parte I:\n",
    "En la parte I primero visualizamos los datos de Global Forest Watch en una area de etudio (igual como lo hicimos el viernes). Después visualizamos algunos puntos. Tienes dos opciones:\n",
    "\n",
    "1.  digitaliza algunos puntos en el mapa y guárdalos como una *ee.FeatureCollection*\n",
    "2.  Carga un shapefile tuyo y conviertelo a una ee.FeatureCollection(), visualiza los puntos en el mapa\n",
    "\n",
    "Cuando termines esta parte, puedes avanzar a parte 2.\n",
    "\n",
    "### Carga las bibliotecas necesarias para este ejercicio, autentícate con GEE y activa las funciones de Matthias"
   ]
  },
  {
   "cell_type": "code",
   "execution_count": 1,
   "id": "e8b1b855",
   "metadata": {},
   "outputs": [],
   "source": [
    "import ee\n",
    "import geemap\n",
    "import eemont\n",
    "from osgeo import ogr, osr"
   ]
  },
  {
   "cell_type": "code",
   "execution_count": 2,
   "id": "2e3c8e83",
   "metadata": {},
   "outputs": [],
   "source": [
    "try:\n",
    "    ee.Initialize()\n",
    "except Exception as e:\n",
    "    ee.Authenticate()\n",
    "    ee.Initialize()"
   ]
  },
  {
   "cell_type": "code",
   "execution_count": 3,
   "id": "13a83466",
   "metadata": {
    "code_folding": [
     34,
     63
    ]
   },
   "outputs": [],
   "source": [
    "def fcTOshp(fc_geojson, outName):\n",
    "    '''\n",
    "    Function that takes the output from the getInfo of a ee.FeatureCollection() and\n",
    "    converts it into a local shapefile. Code was generated through ChatGPT\n",
    "    !!!! Works so far only for homogenous shapefiles (i.e., Point OR Polygon OR LineString!!!\n",
    "    \n",
    "    Arguments:\n",
    "    ----------\n",
    "    fc_geojson (required): output from getInfo() calling to a featureCollection\n",
    "    outName (string, required): Name of the desired output-file\n",
    "    \n",
    "    '''\n",
    "    # Check which geomtry type we have\n",
    "    firstFeat = fc_geojson['features'][0]\n",
    "    firstGeom = firstFeat['geometry']['type']   \n",
    "    # Add the spatial reference\n",
    "    sr = osr.SpatialReference()\n",
    "    sr.ImportFromEPSG(4326)\n",
    "    # Open the output shapefile using OGR\n",
    "    driver = ogr.GetDriverByName('ESRI Shapefile')\n",
    "    shapefile = driver.CreateDataSource(outName)\n",
    "    if firstGeom == 'Polygon':\n",
    "        layer = shapefile.CreateLayer(outName.split('.')[0], sr, geom_type=ogr.wkbPolygon)\n",
    "    if firstGeom == 'Point':\n",
    "        layer = shapefile.CreateLayer(outName.split('.')[0], sr, geom_type=ogr.wkbPoint)\n",
    "    if firstGeom == 'LineString':\n",
    "        layer = shapefile.CreateLayer(outName.split('.')[0], sr, geom_type=ogr.wkbLineString)\n",
    "    # Get the feature fields and add them to the output shapefile attribute table\n",
    "    for field in fc_geojson['features'][0]['properties'].keys():\n",
    "        layer.CreateField(ogr.FieldDefn(field, ogr.OFTString))\n",
    "    # Add the feature geometries and attributes to the output shapefile\n",
    "    for feature in fc_geojson['features']:\n",
    "        geom = ogr.CreateGeometryFromJson(str(feature['geometry']))\n",
    "        feat = ogr.Feature(layer.GetLayerDefn())\n",
    "        feat.SetGeometry(geom)\n",
    "        for field in feature['properties'].keys():\n",
    "            feat.SetField(field, feature['properties'][field])\n",
    "        layer.CreateFeature(feat)\n",
    "        feat = None\n",
    "    # Close the output shapefile\n",
    "    shapefile = None\n",
    "    layer = None\n",
    "    \n",
    "def shpTOfc(pathToShape):\n",
    "    import json\n",
    "    # Open the shapefile, get the layer\n",
    "    ds = ogr.Open(pathToShape)\n",
    "    lyr = ds.GetLayer()\n",
    "    # Create an emtpy feature collection\n",
    "    fc = ee.FeatureCollection([])\n",
    "    # Get the feature fields and geometries and add them to the feature collection\n",
    "    idCount = 1\n",
    "    for feat in lyr:\n",
    "        geom = feat.geometry()\n",
    "        # Automatic coordinate transformation\n",
    "        from_sr = lyr.GetSpatialRef()\n",
    "        to_sr = osr.SpatialReference()\n",
    "        to_sr.ImportFromEPSG(4326)\n",
    "        cs = osr.CoordinateTransformation(from_sr, to_sr)\n",
    "        geom.Transform(cs)\n",
    "        geojson = json.loads(geom.ExportToJson())\n",
    "        properties = {}\n",
    "        for i in range(feat.GetFieldCount()):\n",
    "            field_name = feat.GetFieldDefnRef(i).GetName()\n",
    "            field_value = feat.GetField(i)\n",
    "            properties[field_name] = field_value\n",
    "        ee_feat = ee.Feature(ee.Geometry(geojson), properties)\n",
    "        # Remove the 'id' property from the feature\n",
    "        ee_feat = ee_feat.set('id', idCount)\n",
    "        idCount += 1\n",
    "        fc = fc.merge(ee.FeatureCollection(ee_feat))\n",
    "    return fc\n",
    "def fcTOcsv(fc, outPath):\n",
    "    import pandas as pd\n",
    "    flag = 0\n",
    "    featVals = fc['features']\n",
    "    for f in featVals:\n",
    "        prop = f['properties']\n",
    "        if flag == 0:\n",
    "            # Create a pandas data frame with the first element of the values\n",
    "            out_pd = pd.DataFrame(prop, index=[0])\n",
    "            flag = 1\n",
    "        else:\n",
    "            out_pd = pd.concat([out_pd, pd.DataFrame(prop, index=[0])])\n",
    "    # Write the pandas dataframe \n",
    "    out_pd.to_csv(outPath, index=False)  "
   ]
  },
  {
   "cell_type": "markdown",
   "id": "90b6169c",
   "metadata": {},
   "source": [
    "### Carga un mapa y encuentra tu area de estudio\n",
    "* Ejecute la celda de código siguiente y navegue hasta la región de estudio de su interés\n",
    "* Utilice las herramientas de digitalización para seleccionar un área de estudio de su elección\n",
    "* A continuación, ejecute la siguiente celda de código para almacenar el área de estudio como ```ee.Geometry()```"
   ]
  },
  {
   "cell_type": "code",
   "execution_count": 4,
   "id": "fc56e414-5f80-4a3d-87e3-5d721949d8b8",
   "metadata": {},
   "outputs": [
    {
     "data": {
      "application/vnd.jupyter.widget-view+json": {
       "model_id": "49df7449acd84a09aa103f298020c902",
       "version_major": 2,
       "version_minor": 0
      },
      "text/plain": [
       "Map(center=[20, 0], controls=(WidgetControl(options=['position', 'transparent_bg'], widget=HBox(children=(Togg…"
      ]
     },
     "metadata": {},
     "output_type": "display_data"
    }
   ],
   "source": [
    "Map = geemap.Map(zoom=4)\n",
    "Map.add_basemap('SATELLITE') # add Google Earth Basemap\n",
    "Map"
   ]
  },
  {
   "cell_type": "code",
   "execution_count": 5,
   "id": "15518682-aaf9-4f68-9563-58d1f869ca64",
   "metadata": {},
   "outputs": [],
   "source": [
    "roi = Map.draw_last_feature.geometry()"
   ]
  },
  {
   "cell_type": "code",
   "execution_count": 6,
   "id": "4110607c",
   "metadata": {},
   "outputs": [],
   "source": [
    "# Global Forest Watch\n",
    "gfw = ee.Image(\"UMD/hansen/global_forest_change_2021_v1_9\").clip(roi)\n",
    "Map.addLayer(gfw, {'bands': ['treecover2000'], 'min': 0, 'max': 100, 'palette': ['black', 'green']}, 'GFW Tree Cover')\n",
    "Map.addLayer(gfw, {'bands': ['lossyear'], 'min': 0, 'max': 21, 'palette': ['yellow', 'red']}, 'GFW TC loss')"
   ]
  },
  {
   "cell_type": "code",
   "execution_count": 7,
   "id": "a305bbbe",
   "metadata": {},
   "outputs": [],
   "source": [
    "# Topography\n",
    "elev = ee.Image(\"USGS/SRTMGL1_003\").select(['elevation']).clip(roi)\n",
    "slope = ee.Terrain.slope(elev)\n",
    "Map.addLayer(elev, {'min': 200, 'max': 300, 'palette': ['black', 'white']}, 'Elevation')\n",
    "Map.addLayer(slope, {'min': 0, 'max': 1, 'palette': ['black', 'white']}, 'Slope')"
   ]
  },
  {
   "cell_type": "markdown",
   "id": "cacea1a2-088f-4768-b7b6-3d295b54c308",
   "metadata": {},
   "source": [
    "### Visualización de datos vectoriales en el mapa como una ee.FeatureCollection()\n",
    "Usa opción I o opción II\n",
    "\n",
    "### Opción I: digitalización manual\n",
    "Borra el polígono del mapa usando el button del borrador. Después digitaliza unos puntos y corre el código abajo. Investiga la estructura de la variable *puntos*."
   ]
  },
  {
   "cell_type": "code",
   "execution_count": null,
   "id": "e724991b",
   "metadata": {
    "cell_style": "center"
   },
   "outputs": [],
   "source": [
    "# Convertir los puntos en una featureCollection\n",
    "fc = ee.FeatureCollection(Map.draw_features)\n",
    "fc"
   ]
  },
  {
   "cell_type": "code",
   "execution_count": null,
   "id": "d79896e3",
   "metadata": {
    "cell_style": "center"
   },
   "outputs": [],
   "source": [
    "# Bajarlo y guárdalo en un variable\n",
    "puntos = fc.getInfo()\n",
    "puntos"
   ]
  },
  {
   "cell_type": "code",
   "execution_count": null,
   "id": "b8f38749",
   "metadata": {},
   "outputs": [],
   "source": [
    "# Si quieres, puedes bajar los puntos en tu disco duro\n",
    "yourPath = \".shp\"\n",
    "fcTOshp(puntos, yourPath)"
   ]
  },
  {
   "cell_type": "markdown",
   "id": "568c8ee0",
   "metadata": {},
   "source": [
    "### Opción II: carga un shapefile tuyo (puntos)\n",
    "carga un shapefile de puntos tuyo y aplica la función ```shpTOfc(pathToShape)``` para convertirlo en una ```ee.FeatureCollection```. Después visualiza el shapefile en el mapa"
   ]
  },
  {
   "cell_type": "code",
   "execution_count": null,
   "id": "735951a1",
   "metadata": {},
   "outputs": [],
   "source": [
    "path = \"\"\n",
    "ownFC = shpTOfc(path)\n",
    "ownFC"
   ]
  },
  {
   "cell_type": "code",
   "execution_count": null,
   "id": "d11c4009",
   "metadata": {},
   "outputs": [],
   "source": [
    "Map.addLayer(ownFC, {'color': '000000', 'width': 1,'lineType': 'solid','fillColor': '00000000', 'propertyName':id}, 'My Points')"
   ]
  },
  {
   "cell_type": "markdown",
   "id": "03ee7691",
   "metadata": {},
   "source": [
    "## Parte II: Extracción de datos en las ubicaciones de puntos\n",
    "En esta parte aplicamos algunos funciones de *GEE* para extraer los valors de rasters en las ubicaciones de los puntos. Después guardamos los datos en tu disco duro. Primero usa el código de la pantalla para combinar las imagenes en una nueva imagen. Despues extrae los datos y usa la función ```fcTOcsv(json, outPath)``` para guardarlos."
   ]
  },
  {
   "cell_type": "code",
   "execution_count": null,
   "id": "a0de7719",
   "metadata": {},
   "outputs": [],
   "source": []
  }
 ],
 "metadata": {
  "kernelspec": {
   "display_name": "Python 3 (ipykernel)",
   "language": "python",
   "name": "python3"
  },
  "language_info": {
   "codemirror_mode": {
    "name": "ipython",
    "version": 3
   },
   "file_extension": ".py",
   "mimetype": "text/x-python",
   "name": "python",
   "nbconvert_exporter": "python",
   "pygments_lexer": "ipython3",
   "version": "3.11.3"
  }
 },
 "nbformat": 4,
 "nbformat_minor": 5
}
