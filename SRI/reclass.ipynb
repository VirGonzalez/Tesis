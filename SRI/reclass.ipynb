{
 "cells": [
  {
   "cell_type": "code",
   "execution_count": 2,
   "metadata": {},
   "outputs": [],
   "source": [
    "from osgeo import gdal"
   ]
  },
  {
   "cell_type": "code",
   "execution_count": null,
   "metadata": {},
   "outputs": [],
   "source": []
  },
  {
   "cell_type": "code",
   "execution_count": 9,
   "metadata": {},
   "outputs": [],
   "source": [
    "driver = gdal.GetDriverByName('GTiff')\n",
    "file = gdal.Open('D:/paper_sri/urb_degree20.tif')\n",
    "band = file.GetRasterBand(1)\n",
    "lista = band.ReadAsArray()"
   ]
  },
  {
   "cell_type": "code",
   "execution_count": 10,
   "metadata": {},
   "outputs": [],
   "source": [
    "band = file.GetRasterBand(1)\n",
    "lista = band.ReadAsArray()\n",
    "\n",
    "# reclassification\n",
    "for j in  range(file.RasterXSize):\n",
    "    for i in  range(file.RasterYSize):\n",
    "        if lista[i,j] > 21 :\n",
    "            lista[i,j] = 1\n",
    "        elif 0 < lista[i,j] < 21:\n",
    "            lista[i,j] = 2\n",
    "        else:\n",
    "            lista[i,j] = 3"
   ]
  },
  {
   "cell_type": "code",
   "execution_count": 11,
   "metadata": {},
   "outputs": [],
   "source": [
    "# create new file\n",
    "file2 = driver.Create( 'D:/paper_sri/raster/raster_20.tif', file.RasterXSize , file.RasterYSize , 1)\n",
    "file2.GetRasterBand(1).WriteArray(lista)\n",
    "\n",
    "# spatial ref system\n",
    "proj = file.GetProjection()\n",
    "georef = file.GetGeoTransform()\n",
    "file2.SetProjection(proj)\n",
    "file2.SetGeoTransform(georef)\n",
    "file2.FlushCache()"
   ]
  }
 ],
 "metadata": {
  "kernelspec": {
   "display_name": "base",
   "language": "python",
   "name": "python3"
  },
  "language_info": {
   "codemirror_mode": {
    "name": "ipython",
    "version": 3
   },
   "file_extension": ".py",
   "mimetype": "text/x-python",
   "name": "python",
   "nbconvert_exporter": "python",
   "pygments_lexer": "ipython3",
   "version": "3.9.16"
  }
 },
 "nbformat": 4,
 "nbformat_minor": 2
}
